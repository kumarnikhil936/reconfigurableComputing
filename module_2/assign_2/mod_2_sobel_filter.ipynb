{
 "cells": [
  {
   "cell_type": "code",
   "execution_count": 6,
   "metadata": {},
   "outputs": [
    {
     "data": {
      "image/png": "[encoded data removed]",
      "text/plain": [
       "<matplotlib.figure.Figure at 0x28b57ad0>"
      ]
     },
     "metadata": {},
     "output_type": "display_data"
    },
    {
     "name": "stdout",
     "output_type": "stream",
     "text": [
      "Time (ARM): 13.622583150863647 sec\n"
     ]
    },
    {
     "data": {
      "image/png": "[encoded data removed]",
      "text/plain": [
       "<matplotlib.figure.Figure at 0x2a170db0>"
      ]
     },
     "metadata": {},
     "output_type": "display_data"
    },
    {
     "name": "stdout",
     "output_type": "stream",
     "text": [
      "Load overlay\n",
      "Open Xlnk\n",
      "Allocating CMA for input\n",
      "Allocating CMA for output\n",
      "Transfering input buffer\n",
      "Transfering output buffer\n",
      "Waiting for input buffer...\n",
      "Transfer input buffer done!\n",
      "Waiting for output buffer...\n",
      "Transfer output buffer done!\n",
      "Time (FPGA): 0.01150202751159668 sec\n"
     ]
    },
    {
     "data": {
      "image/png": "[encoded data removed]",
      "text/plain": [
       "<matplotlib.figure.Figure at 0x28ad0290>"
      ]
     },
     "metadata": {},
     "output_type": "display_data"
    }
   ],
   "source": [
    "import subprocess\n",
    "import sys\n",
    "import cv2\n",
    "import numpy as np\n",
    "import time\n",
    "import math\n",
    "from matplotlib import pyplot as plt\n",
    "\n",
    "from pynq import Overlay\n",
    "import pynq.lib.dma\n",
    "from pynq import Xlnk\n",
    "from pynq.lib.video import *\n",
    "from pynq import MMIO\n",
    "\n",
    "USE_SW = 1\n",
    "USE_HW = 1\n",
    "\n",
    "USE_IMG_SQUARE = 0 # 120x90 pixels\n",
    "USE_IMG_RECTS = 0 # 120x90 pixels\n",
    "USE_IMG_CHECKERBOARD = 1 # 120x90 pixels\n",
    "USE_IMG_LENNA = 0 # 512x512 pixels\n",
    "USE_IMG_SCHLOSS = 0  # 1920x1080 pixels\n",
    "USE_IMG_NYC = 0 # 3840x2160 pixels\n",
    "\n",
    "if USE_IMG_SQUARE:\n",
    "    imgInName = \"images/square.png\"\n",
    "    FRAME_IN_W = 120\n",
    "    FRAME_IN_H = 90\n",
    "if USE_IMG_RECTS:\n",
    "    import os\n",
    "    imgInName = \"images/rects.png\"\n",
    "    FRAME_IN_W = 120\n",
    "    FRAME_IN_H = 90\n",
    "if USE_IMG_CHECKERBOARD:\n",
    "    imgInName = \"images/checkerboard.png\"\n",
    "    FRAME_IN_W = 120\n",
    "    FRAME_IN_H = 90\n",
    "if USE_IMG_LENNA:\n",
    "    imgInName = \"images/lenna.png\"\n",
    "    FRAME_IN_W = 512\n",
    "    FRAME_IN_H = 512\n",
    "if USE_IMG_SCHLOSS:\n",
    "    imgInName = \"images/schloss_neuhaus.png\"\n",
    "    FRAME_IN_W = 1920\n",
    "    FRAME_IN_H = 1080\n",
    "if USE_IMG_NYC:\n",
    "    imgInName = \"images/nyc.png\"\n",
    "    FRAME_IN_W = 3840\n",
    "    FRAME_IN_H = 2160\n",
    "    \n",
    "NBR_PIXEL = FRAME_IN_W*FRAME_IN_H\n",
    "\n",
    "# Read image from file\n",
    "frame_vga = cv2.imread( imgInName )\n",
    "imageIn = np.ndarray(shape=(FRAME_IN_H, FRAME_IN_W), dtype=np.uint8)\n",
    "cv2.cvtColor(frame_vga,cv2.COLOR_BGR2GRAY,dst=imageIn)\n",
    "    \n",
    "# Show input image\n",
    "plt.imshow(imageIn, cmap='gray')\n",
    "plt.show()\n",
    "\n",
    "if USE_SW:\n",
    "    s = time.time()\n",
    "    \n",
    "    #\n",
    "    # Implement your software solution here\n",
    "    #\n",
    "    \n",
    "    h_x = np.array([1, 0, -1, 2, 0, -2, 1, 0, -1]).reshape(3,3)\n",
    "    h_y = np.array([1, 2, 1, 0, 0, 0, -1, -2, -1]).reshape(3,3)\n",
    "    \n",
    "    g_x = np.zeros((FRAME_IN_H, FRAME_IN_W))\n",
    "    g_y = np.zeros((FRAME_IN_H, FRAME_IN_W))\n",
    "    for ind_x in range(1, FRAME_IN_W-1):\n",
    "        for ind_y in range(1, FRAME_IN_H-1):\n",
    "            n = 1\n",
    "            for i in range(-n, n+1):\n",
    "                for j in range(-n, n+1):\n",
    "                    g_x[ind_y, ind_x] += imageIn[ind_y+i, ind_x+j]*h_x[n+i, n+j]\n",
    "                    g_y[ind_y, ind_x] += imageIn[ind_y+i, ind_x+j]*h_y[n+i, n+j]\n",
    "    imageOut = np.sqrt(np.power(g_x, 2)+np.power(g_y, 2))        \n",
    "    \n",
    "    e = time.time()\n",
    "    print(\"Time (ARM):\", e-s, \"sec\")\n",
    "    plt.imshow(imageOut,cmap = 'gray')\n",
    "    plt.show()  \n",
    "    \n",
    "if USE_HW:\n",
    "    # Load bitstream\n",
    "    print(\"Load overlay\")\n",
    "    ol = Overlay(\"bitstream.bit\", download=True)\n",
    "\n",
    "    # Allocate continous memory array\n",
    "    print(\"Open Xlnk\")\n",
    "    xlnk = Xlnk()\n",
    "    print(\"Allocating CMA for input\")\n",
    "    input_buffer = xlnk.cma_array(shape=(FRAME_IN_H,FRAME_IN_W), dtype=np.uint8)\n",
    "    cv2.cvtColor(frame_vga,cv2.COLOR_BGR2GRAY,dst=input_buffer)\n",
    "    \n",
    "    print(\"Allocating CMA for output\")\n",
    "    output_buffer = xlnk.cma_array(shape=(FRAME_IN_H,FRAME_IN_W), dtype=np.uint8)\n",
    "\n",
    "    # Get DMA controller from IP dictionary\n",
    "    dma_send = ol.axi_dma_from_ps_to_pl\n",
    "    dma_recv = ol.axi_dma_from_pl_to_ps\n",
    "\n",
    "    #Measure time\n",
    "    s = time.time()\n",
    "    \n",
    "    # Send image\n",
    "    print(\"Transfering input buffer\")\n",
    "    dma_send.sendchannel.transfer(input_buffer)\n",
    "\n",
    "    # Receive image\n",
    "    print(\"Transfering output buffer\")\n",
    "    dma_recv.recvchannel.transfer(output_buffer)\n",
    "\n",
    "    print(\"Waiting for input buffer...\")\n",
    "    dma_send.sendchannel.wait()\n",
    "    print(\"Transfer input buffer done!\")\n",
    "\n",
    "    print(\"Waiting for output buffer...\")\n",
    "    dma_recv.recvchannel.wait()\n",
    "    print(\"Transfer output buffer done!\")\n",
    "\n",
    "    # Measure time\n",
    "    e = time.time()\n",
    "    print(\"Time (FPGA):\", e-s, \"sec\")\n",
    "\n",
    "    plt.imshow(output_buffer, cmap='gray')\n",
    "    plt.show()\n",
    "            \n",
    "    input_buffer.freebuffer()\n",
    "    output_buffer.freebuffer()\n",
    "    del xlnk"
   ]
  },
  {
   "cell_type": "code",
   "execution_count": null,
   "metadata": {
    "collapsed": true
   },
   "outputs": [],
   "source": []
  }
 ],
 "metadata": {
  "kernelspec": {
   "display_name": "Python 3",
   "language": "python",
   "name": "python3"
  },
  "language_info": {
   "codemirror_mode": {
    "name": "ipython",
    "version": 3
   },
   "file_extension": ".py",
   "mimetype": "text/x-python",
   "name": "python",
   "nbconvert_exporter": "python",
   "pygments_lexer": "ipython3",
   "version": "3.6.0"
  }
 },
 "nbformat": 4,
 "nbformat_minor": 2
}
